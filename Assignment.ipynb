{
 "cells": [
  {
   "cell_type": "markdown",
   "id": "39ca3469-cf8f-4209-8854-aa81f911ce31",
   "metadata": {},
   "source": [
    "### 1) What are the types of Applications?"
   ]
  },
  {
   "cell_type": "markdown",
   "id": "ad0e12ee-eca8-452d-95c8-d59111ba15cf",
   "metadata": {},
   "source": [
    "Applications, also called apps, are created to execute specific tasks on computers or mobile devices.\n",
    "The following are the different types of applications based on need:\n",
    "\n",
    "Database apps,\n",
    "Custom apps,\n",
    "Web-based apps,\n",
    "Low-code apps,\n",
    "No code apps,\n",
    "Enterprise apps.\n"
   ]
  },
  {
   "cell_type": "markdown",
   "id": "a9476973-7315-4c54-b8f6-1dccc00a67d4",
   "metadata": {},
   "source": [
    "### 2) What is programing? "
   ]
  },
  {
   "cell_type": "raw",
   "id": "676a52e8-d7ff-4dd3-a9c0-4ceced56ae1d",
   "metadata": {},
   "source": [
    "Programming refers to a technological process that tells a computer which tasks to perform in order to solve problems. You can think of programming as a collaboration between humans and computers, in which humans create instructions for a computer to follow (code) in a language computers can understand. "
   ]
  },
  {
   "cell_type": "markdown",
   "id": "d2c9b1af-6cda-4ca5-acb8-491d7b90a847",
   "metadata": {},
   "source": [
    "### 3) What is Python? "
   ]
  },
  {
   "cell_type": "raw",
   "id": "9d5b45f3-3bbb-482d-afbc-dc8e4897d116",
   "metadata": {},
   "source": [
    "Python is an object-oriented high level programming language developed by Guido van Rossum in the early 1990s. It is an open-source language that is licensed and freely distributed by the Python Software Foundation, a non-profit organization backed by several prominent companies such as Google and Microsoft. Python is designed with an extremely simple syntax, together with a powerful built-in core. This combination facilitates the rapid development of software, making Python an attractive choice for experienced software developers.\n"
   ]
  },
  {
   "cell_type": "markdown",
   "id": "4db271a3-d6a3-4a45-9710-d563df1b1b84",
   "metadata": {},
   "source": [
    "### 4) Write a Python program to check if a number is positive, negative or zero. \n"
   ]
  },
  {
   "cell_type": "code",
   "execution_count": 23,
   "id": "948ad3da-fd8d-4388-9076-67fa79f93fa7",
   "metadata": {},
   "outputs": [
    {
     "name": "stdin",
     "output_type": "stream",
     "text": [
      "Enter the number -9\n"
     ]
    },
    {
     "name": "stdout",
     "output_type": "stream",
     "text": [
      "It is a negative number\n"
     ]
    }
   ],
   "source": [
    "i = int(input(\"Enter the number\"))\n",
    "\n",
    "if i > 0:\n",
    "    print (\"it is a positive number\")\n",
    "elif i == 0:\n",
    "    print (\"it is a zero\")\n",
    "else: \n",
    "    print (\"It is a negative number\")\n",
    "    \n",
    "    "
   ]
  },
  {
   "cell_type": "markdown",
   "id": "9abbb254-6853-4049-a430-be63a26d150b",
   "metadata": {},
   "source": [
    "### 5) Write a Python program to get the Factorial number of given numbers."
   ]
  },
  {
   "cell_type": "code",
   "execution_count": 64,
   "id": "f5082d53-cde3-4b25-84cb-0cf30574b7b4",
   "metadata": {},
   "outputs": [
    {
     "name": "stdin",
     "output_type": "stream",
     "text": [
      "Enter the number 5\n"
     ]
    },
    {
     "name": "stdout",
     "output_type": "stream",
     "text": [
      "Factorial= 120\n"
     ]
    }
   ],
   "source": [
    "i=int(input(\"Enter the number\"))\n",
    "fac=1\n",
    "while i>0:\n",
    "    fac=fac*i\n",
    "    i=i-1\n",
    "print(\"Factorial=\",fac)\n"
   ]
  },
  {
   "cell_type": "markdown",
   "id": "963870db-8af9-48bd-b391-9d28243b8317",
   "metadata": {},
   "source": [
    "### 6) Write a Python program to get the Fibonacci series of given range. "
   ]
  },
  {
   "cell_type": "code",
   "execution_count": 11,
   "id": "7e7b5f85-4611-4a80-9ce2-7b0e047fa3b8",
   "metadata": {},
   "outputs": [
    {
     "name": "stdin",
     "output_type": "stream",
     "text": [
      "Enter the number 7\n"
     ]
    },
    {
     "name": "stdout",
     "output_type": "stream",
     "text": [
      "0 1 1 2 3 5 8 "
     ]
    }
   ],
   "source": [
    "\n",
    "n=int(input(\"Enter the number\"))\n",
    "a=0\n",
    "b=1\n",
    "for i in range(n):\n",
    "    print(a, end=\" \")\n",
    "    c=a+b\n",
    "    a=b\n",
    "    b=c"
   ]
  },
  {
   "cell_type": "markdown",
   "id": "48d93f5b-9b68-46f9-a9a7-93207e9165b1",
   "metadata": {},
   "source": [
    "### 7) How memory is managed in Python? "
   ]
  },
  {
   "cell_type": "raw",
   "id": "becaa3ba-d01e-4dcb-8714-e65bc0f29094",
   "metadata": {},
   "source": [
    "Memory in Python is managed by the Python memory manager, which handles the allocation and deallocation of memory for objects, and includes an automatic garbage collector for reclaiming unused memory."
   ]
  },
  {
   "cell_type": "markdown",
   "id": "a532ea29-33e7-4848-8d7c-2eddc16c5aa5",
   "metadata": {},
   "source": [
    "### 8) What is the purpose continuing statement in python? "
   ]
  },
  {
   "cell_type": "raw",
   "id": "bab520ae-7dba-4963-b752-ffbf8c61bd45",
   "metadata": {},
   "source": [
    "Purpose of continue\n",
    "Control Flow: It helps control the flow of loops by skipping specific iterations based on a condition, without breaking out of the loop entirely.\n",
    "Avoid Nested Conditions: It can reduce the need for deeply nested conditional statements by allowing you to jump to the next iteration directly."
   ]
  },
  {
   "cell_type": "markdown",
   "id": "63094472-1996-423a-bba5-22ba08249418",
   "metadata": {},
   "source": [
    "## 9)a Write python program that swap two number with temp variable and without temp variable. \n"
   ]
  },
  {
   "cell_type": "code",
   "execution_count": 30,
   "id": "d510ea5c-945b-4d14-996a-d7d113f3a9fa",
   "metadata": {},
   "outputs": [
    {
     "name": "stdin",
     "output_type": "stream",
     "text": [
      "Enter the number: 6\n",
      "Enter the number: 7\n"
     ]
    },
    {
     "name": "stdout",
     "output_type": "stream",
     "text": [
      "7\n",
      "6\n"
     ]
    }
   ],
   "source": [
    "a=int(input(\"Enter the number:\"))\n",
    "b=int(input(\"Enter the number:\"))\n",
    "temp=a\n",
    "a=b\n",
    "b=temp\n",
    "print(a)\n",
    "print(b)"
   ]
  },
  {
   "cell_type": "markdown",
   "id": "8b49f7b1-8165-4983-85e3-c04ba9b834ec",
   "metadata": {},
   "source": [
    "## 9)b"
   ]
  },
  {
   "cell_type": "code",
   "execution_count": 32,
   "id": "87a81200-bb0a-47e7-9679-f5db383f9017",
   "metadata": {},
   "outputs": [
    {
     "name": "stdin",
     "output_type": "stream",
     "text": [
      "Enter the number: 5\n",
      "Enter the number: 7\n"
     ]
    },
    {
     "name": "stdout",
     "output_type": "stream",
     "text": [
      "A:7,B:5\n"
     ]
    }
   ],
   "source": [
    "a=int(input(\"Enter the number:\"))\n",
    "b=int(input(\"Enter the number:\"))\n",
    "a,b=b,a\n",
    "print(f'A:{a},B:{b}')\n"
   ]
  },
  {
   "cell_type": "markdown",
   "id": "8e6eefae-631b-4ab9-8039-e93678e17ed2",
   "metadata": {},
   "source": [
    "## 10) Write a Python program to find whether a given number is even or odd, print out an appropriate message to the user. \n"
   ]
  },
  {
   "cell_type": "code",
   "execution_count": 42,
   "id": "255f7b9f-6401-4c55-9868-5c9b97ba80e2",
   "metadata": {},
   "outputs": [
    {
     "name": "stdin",
     "output_type": "stream",
     "text": [
      "Enter the number: 3\n"
     ]
    },
    {
     "name": "stdout",
     "output_type": "stream",
     "text": [
      "3 is Odd Number\n"
     ]
    }
   ],
   "source": [
    "a=int(input(\"Enter the number:\"))\n",
    "if a%2==0:\n",
    "    print(f'{a} is Even Number')\n",
    "else:\n",
    "    print(f'{a} is Odd Number')\n"
   ]
  },
  {
   "cell_type": "markdown",
   "id": "03b7e6c5-b702-4e24-a6df-246096cacfa2",
   "metadata": {},
   "source": [
    "## 11) Write a Python program to test whether a passed letter is a vowel or not."
   ]
  },
  {
   "cell_type": "code",
   "execution_count": 48,
   "id": "1055de47-39bb-4e43-b4bb-4b84dee307c8",
   "metadata": {},
   "outputs": [
    {
     "name": "stdin",
     "output_type": "stream",
     "text": [
      "Enter the Alphabet: E\n"
     ]
    },
    {
     "name": "stdout",
     "output_type": "stream",
     "text": [
      "E vowel\n"
     ]
    }
   ],
   "source": [
    "x = str(input(\"Enter the Alphabet:\"))\n",
    "\n",
    "if x == 'a'or x =='e' or x == 'i' or x == 'o' or x == 'u' or  x == 'A'or  x == 'E'or x == 'I' or x == 'O' or x == 'U':\n",
    "    print(x, \"vowel\")\n",
    "else:\n",
    "    print(x, \"consonant\")"
   ]
  },
  {
   "cell_type": "markdown",
   "id": "e165ac7f-9ca6-4f9b-9b09-73a59e8a6e52",
   "metadata": {},
   "source": [
    "## 12) Write a Python program to sum of three given integers. However, if two values are equal sum will be zero. "
   ]
  },
  {
   "cell_type": "code",
   "execution_count": 62,
   "id": "fa28e637-5e7b-45f5-b202-5dea49e5b4bf",
   "metadata": {},
   "outputs": [
    {
     "name": "stdin",
     "output_type": "stream",
     "text": [
      "Enter the number: 3\n",
      "Enter the number: 4\n",
      "Enter the number: 6\n"
     ]
    },
    {
     "name": "stdout",
     "output_type": "stream",
     "text": [
      "13\n"
     ]
    }
   ],
   "source": [
    "a = int(input(\"Enter the number:\"))\n",
    "b = int(input(\"Enter the number:\"))\n",
    "c = int(input(\"Enter the number:\"))\n",
    "if a==b or b==c or c==a\n",
    "    print(\"sum is zero\")\n",
    "else:\n",
    "    print(a+b+c)\n",
    "    "
   ]
  },
  {
   "cell_type": "markdown",
   "id": "b76c8b1e-8d59-4d80-9745-59b0797db0a3",
   "metadata": {},
   "source": [
    "## 13) Write a Python program that will return true if the two given integer values are equal or their sum or difference is 5.\n"
   ]
  },
  {
   "cell_type": "code",
   "execution_count": 92,
   "id": "140b68e4-4892-41bd-95ad-4cb508ea232e",
   "metadata": {},
   "outputs": [
    {
     "name": "stdin",
     "output_type": "stream",
     "text": [
      "Enter the number: 2\n",
      "Enter the number: 3\n"
     ]
    },
    {
     "name": "stdout",
     "output_type": "stream",
     "text": [
      "True\n"
     ]
    }
   ],
   "source": [
    "a = int(input(\"Enter the number:\"))\n",
    "b = int(input(\"Enter the number:\"))\n",
    "if a==b or abs(a+b==5) or abs(a-b==5):\n",
    "    print(\"True\")\n",
    "else:\n",
    "    print(\"False\")"
   ]
  },
  {
   "cell_type": "markdown",
   "id": "632d203d-a7ee-4ba4-8e7a-eb3b69f41b70",
   "metadata": {},
   "source": [
    "## 14) Write a python program to sum of the first n positive integers. "
   ]
  },
  {
   "cell_type": "code",
   "execution_count": 104,
   "id": "5d7d5f9c-2ec2-47f0-b3fc-9f4c69873392",
   "metadata": {},
   "outputs": [
    {
     "name": "stdin",
     "output_type": "stream",
     "text": [
      "Enter the number 5\n"
     ]
    },
    {
     "name": "stdout",
     "output_type": "stream",
     "text": [
      "Positive integer is, 15\n"
     ]
    }
   ],
   "source": [
    "n =int(input(\"Enter the number\"))\n",
    "a = n*(n+1)\n",
    "d = a//2\n",
    "print(f'Positive integer is, {d}')\n"
   ]
  },
  {
   "cell_type": "markdown",
   "id": "0f0cb315-4a1d-4f55-9dd4-c6dc2785b23e",
   "metadata": {},
   "source": [
    "## 15) Write a Python program to calculate the length of a string. "
   ]
  },
  {
   "cell_type": "code",
   "execution_count": 124,
   "id": "1fb0ea3c-bb93-42cb-a4cf-d3739b806b59",
   "metadata": {},
   "outputs": [
    {
     "name": "stdin",
     "output_type": "stream",
     "text": [
      "Enter the name Ram\n"
     ]
    },
    {
     "name": "stdout",
     "output_type": "stream",
     "text": [
      "Length of name is, len(a)\n"
     ]
    }
   ],
   "source": [
    "a = str(input(\"Enter the name\"))\n",
    "len(a)\n",
    "print(f'Length of name is, {len(a)}')"
   ]
  },
  {
   "cell_type": "markdown",
   "id": "d76fcea5-d924-4cbc-bea7-11d408ad9b2f",
   "metadata": {},
   "source": [
    "### 16) Write a Python program to count the number of characters (character frequency) in a string. \r"
   ]
  },
  {
   "cell_type": "code",
   "execution_count": 117,
   "id": "7f3c11aa-9d5b-4467-9b69-ab7c2db9db32",
   "metadata": {},
   "outputs": [
    {
     "name": "stdin",
     "output_type": "stream",
     "text": [
      "Enter String: aakash\n"
     ]
    },
    {
     "name": "stdout",
     "output_type": "stream",
     "text": [
      "{'a': 3, 'k': 1, 's': 1, 'h': 1}\n"
     ]
    }
   ],
   "source": [
    "s=input(\"Enter String:\")\n",
    "d={}\n",
    "for i in s:\n",
    "    if i in d:\n",
    "        d[i]+=1\n",
    "    else:\n",
    "        d[i]=1\n",
    "print(d) "
   ]
  },
  {
   "cell_type": "markdown",
   "id": "768cd455-63d5-4a81-a845-d4199d2160ad",
   "metadata": {},
   "source": [
    "## 17) What are Negative Indexes and Why Are They Used?"
   ]
  },
  {
   "cell_type": "raw",
   "id": "d759c4bc-83cd-48db-a41d-1106b6aedc1f",
   "metadata": {},
   "source": [
    "Python is a powerful and versatile programming language that has many features and capabilities. One of these features is negative indexing, which allows you to access elements of a sequence (such as a list, a string, or a tuple) from the end, using negative numbers as indexes."
   ]
  },
  {
   "cell_type": "markdown",
   "id": "41d2be4d-1327-4a0c-a1f1-20a3ccfb87ec",
   "metadata": {},
   "source": [
    "## 18) Write a Python program to count occurrences of a substring in a string. \n"
   ]
  },
  {
   "cell_type": "code",
   "execution_count": 92,
   "id": "d914c408-30fa-43b5-8b44-f3ef5843940d",
   "metadata": {},
   "outputs": [
    {
     "name": "stdout",
     "output_type": "stream",
     "text": [
      "2\n"
     ]
    }
   ],
   "source": [
    "a=\"my name is Aniket, my favorite language python\"\n",
    "b=\"my\"\n",
    "count= a.count(b)\n",
    "print(count)"
   ]
  },
  {
   "cell_type": "markdown",
   "id": "f94e4703-7aba-40d6-bc22-a9d14788755c",
   "metadata": {},
   "source": [
    "## 19) Python Program to Count the Occurrences of Each Word in a Given Sentence"
   ]
  },
  {
   "cell_type": "code",
   "execution_count": 3,
   "id": "c51cc122-6f17-45d7-a5ab-4fbcb90e28ff",
   "metadata": {},
   "outputs": [
    {
     "name": "stdout",
     "output_type": "stream",
     "text": [
      "{'This': 2, 'is': 2, 'a': 2, 'test': 3, '.': 2, 'only': 1}\n"
     ]
    }
   ],
   "source": [
    "sentence = \"This is a test . This test is only a test .\"\n",
    "word = sentence.split()\n",
    "d={}\n",
    "for word in word:\n",
    "    if word in d:\n",
    "        d[word]+=1\n",
    "    else:\n",
    "        d[word]=1\n",
    "print(d)"
   ]
  },
  {
   "cell_type": "markdown",
   "id": "df34e333-6869-481f-96f3-727edd521052",
   "metadata": {},
   "source": [
    "### 20) Write a Python program to get a single string from two given strings, separated by a space and swap the first two characters of each string. "
   ]
  },
  {
   "cell_type": "code",
   "execution_count": 40,
   "id": "80dc5bf5-7c56-479c-89be-952550165f99",
   "metadata": {},
   "outputs": [
    {
     "name": "stdout",
     "output_type": "stream",
     "text": [
      "Shjvi Raail\n"
     ]
    }
   ],
   "source": [
    "string1 = \"Rajvi\"\n",
    "string2 = \"Shail\"\n",
    "new_str1 = (string2[:2])+(string1[2:])\n",
    "new_str2 = (string1[:2])+(string2[2:])\n",
    "print(new_str1+' '+ new_str2)\n"
   ]
  },
  {
   "cell_type": "markdown",
   "id": "83d2ff95-34a6-44dc-a8d3-bf9c46c2e179",
   "metadata": {},
   "source": [
    "### 21) Write a Python program to add 'in' at the end of a given string (length should be at least 3). If the given string already ends with 'ing' then add 'ly' instead if the string length of the given string is less than 3, leave it unchanged. "
   ]
  },
  {
   "cell_type": "code",
   "execution_count": 52,
   "id": "401cc9db-ef18-406e-bfef-d0ba1ec687cd",
   "metadata": {},
   "outputs": [
    {
     "name": "stdin",
     "output_type": "stream",
     "text": [
      "Enter string r\n"
     ]
    },
    {
     "name": "stdout",
     "output_type": "stream",
     "text": [
      "r\n"
     ]
    }
   ],
   "source": [
    "a = str(input(\"Enter string\"))\n",
    "if len(a)<3:\n",
    "    print(a)\n",
    "elif a[-3:]=='ing':\n",
    "    a+='ly'\n",
    "    print(a)\n",
    "else:\n",
    "    a+='in'\n",
    "    print(a)"
   ]
  },
  {
   "cell_type": "markdown",
   "id": "f7d65efe-4d27-41ce-9288-f7f94564173f",
   "metadata": {},
   "source": [
    "### 22) Write a Python function to reverses a string if its length is a multiple of 4. "
   ]
  },
  {
   "cell_type": "code",
   "execution_count": 85,
   "id": "94585fea-3964-4b3a-9262-24f105e03531",
   "metadata": {},
   "outputs": [
    {
     "name": "stdin",
     "output_type": "stream",
     "text": [
      "Enter string teha\n"
     ]
    },
    {
     "name": "stdout",
     "output_type": "stream",
     "text": [
      "ahet\n"
     ]
    }
   ],
   "source": [
    "a=input(\"Enter string\")\n",
    "if ((len(a) % 4))==0:\n",
    "    print(a[::-1])\n",
    "else:\n",
    "    print(a)"
   ]
  },
  {
   "cell_type": "markdown",
   "id": "a0172bd8-2659-41c8-af46-2f9e05bb72f8",
   "metadata": {},
   "source": [
    "### 23) Write a Python program to get a string made of the first 2 and the last 2 chars from a given a string. If the string length is less than 2, return instead of the empty string. "
   ]
  },
  {
   "cell_type": "code",
   "execution_count": 7,
   "id": "bb2daf21-0f0e-4a79-bde8-aacfed9ba21d",
   "metadata": {},
   "outputs": [
    {
     "name": "stdin",
     "output_type": "stream",
     "text": [
      "Enter string g\n"
     ]
    },
    {
     "name": "stdout",
     "output_type": "stream",
     "text": [
      "g\n"
     ]
    }
   ],
   "source": [
    "a = str(input(\"Enter string\"))\n",
    "if len(a)<2:\n",
    "    print(a)\n",
    "else:\n",
    "    print(a[:2] + a[-2:])"
   ]
  },
  {
   "cell_type": "markdown",
   "id": "aeb33806-bca6-487d-8bbe-c5b6e7e76b3e",
   "metadata": {},
   "source": [
    "### 24) Write a Python function to insert a string in the middle of a string. \n"
   ]
  },
  {
   "cell_type": "code",
   "execution_count": 118,
   "id": "59f4922f-2c50-4734-99f3-33c8dcb69090",
   "metadata": {},
   "outputs": [
    {
     "name": "stdin",
     "output_type": "stream",
     "text": [
      "Enter a string rajvi\n",
      "Enter the middle string r\n"
     ]
    },
    {
     "name": "stdout",
     "output_type": "stream",
     "text": [
      "rarjvi\n"
     ]
    }
   ],
   "source": [
    "#a=str(input(\"Enter string:\"))\n",
    "#b=int(len(a)/2)\n",
    "#m=input(\"Enter a middle string:\")\n",
    "#print(a[:b]+ m +a[b:])\n",
    "\n",
    "def middle(a,mid):\n",
    "    m=len(a)//2\n",
    "    return a[:m] + mid + a[m:]\n",
    "a=input(\"Enter a string\")\n",
    "mid=input(\"Enter the middle string\")\n",
    "print(middle(a,mid))"
   ]
  },
  {
   "cell_type": "markdown",
   "id": "075dd46d-9e96-4254-a63c-2c24ebfd77ff",
   "metadata": {},
   "source": [
    "### 25) What is List? How will you reverse a list."
   ]
  },
  {
   "cell_type": "raw",
   "id": "f66efa81-670f-4aef-bd4b-439dec65a922",
   "metadata": {},
   "source": [
    "A list is just a collection of items. For example, [1, 2, 3, 4, 5] is a list of numbers. To reverse a list change the order from last to first."
   ]
  },
  {
   "cell_type": "markdown",
   "id": "54b197ae-8c3a-4412-a1b0-91a0390838ba",
   "metadata": {},
   "source": [
    "### 26) How will you remove last object from a list?"
   ]
  },
  {
   "cell_type": "code",
   "execution_count": 122,
   "id": "31cc3f19-55d8-41de-84b6-1e5f4797a666",
   "metadata": {},
   "outputs": [
    {
     "name": "stdout",
     "output_type": "stream",
     "text": [
      "[2, 3]\n"
     ]
    }
   ],
   "source": [
    "l=[2,3,4]\n",
    "l.remove(l[-1])\n",
    "print(l)"
   ]
  },
  {
   "cell_type": "markdown",
   "id": "7bca411a-1754-4c6e-b6a5-ea3832396a7a",
   "metadata": {},
   "source": [
    "### 27) Suppose list1 is [2, 33, 222, 14, and 25], what is list1 [-1]? \n"
   ]
  },
  {
   "cell_type": "code",
   "execution_count": 25,
   "id": "212c8624-4090-48cd-985c-d8310cf158ab",
   "metadata": {},
   "outputs": [
    {
     "data": {
      "text/plain": [
       "25"
      ]
     },
     "execution_count": 25,
     "metadata": {},
     "output_type": "execute_result"
    }
   ],
   "source": [
    "l1=[2,33,222,14,25]\n",
    "l1[-1]"
   ]
  },
  {
   "cell_type": "markdown",
   "id": "fa8337dc-51ca-4bea-b634-d81cb29b1923",
   "metadata": {},
   "source": [
    "### 28) Differentiate between append () and extend () methods? "
   ]
  },
  {
   "cell_type": "raw",
   "id": "390e29c5-b779-4383-936e-ff69a0ee234b",
   "metadata": {},
   "source": [
    "append() adds the entire object (element) as a single item to the list, whereas extend() adds each element of the iterable to the list.\n",
    "append() is used when you want to add a single element, which could be another list or any other data type. extend() is used when you want to concatenate the list with another iterable (like another list, tuple, or string).\n"
   ]
  },
  {
   "cell_type": "code",
   "execution_count": 34,
   "id": "a4ff9ab9-83aa-4ae5-83f0-8bf33ea945ea",
   "metadata": {},
   "outputs": [
    {
     "name": "stdout",
     "output_type": "stream",
     "text": [
      "[1, 2, 3, 4]\n"
     ]
    }
   ],
   "source": [
    "a = [1,2,3]\n",
    "a.append(4)\n",
    "print(a)"
   ]
  },
  {
   "cell_type": "markdown",
   "id": "2884f004-1032-422e-a47a-cb5d6d362260",
   "metadata": {},
   "source": [
    "### 29) Write a Python function to get the largest number, smallest num and sum of all from a list. "
   ]
  },
  {
   "cell_type": "code",
   "execution_count": 51,
   "id": "f46c0b85-4acb-4b30-b46c-3b2517658ee2",
   "metadata": {},
   "outputs": [
    {
     "name": "stdout",
     "output_type": "stream",
     "text": [
      "Largest number: 222\n",
      "Smallest number: 2\n",
      "Sum of all numbers: 296\n"
     ]
    }
   ],
   "source": [
    "def list(numbers):\n",
    "    largest = max(numbers)\n",
    "    smallest = min(numbers)\n",
    "    total_sum = sum(numbers)\n",
    "\n",
    "    return largest, smallest, total_sum\n",
    "    \n",
    "a  = [2, 33, 222, 14, 25]\n",
    "largest, smallest, total_sum = list(a)\n",
    "print(f\"Largest number: {largest}\")\n",
    "print(f\"Smallest number: {smallest}\")\n",
    "print(f\"Sum of all numbers: {total_sum}\")"
   ]
  },
  {
   "cell_type": "markdown",
   "id": "e3071dd7-e6f9-4098-bf1f-e86e559dacb5",
   "metadata": {},
   "source": [
    "### 30) How will you compare two lists?"
   ]
  },
  {
   "cell_type": "code",
   "execution_count": 61,
   "id": "ab404273-0c9e-48e2-98ff-d93cf6954d3e",
   "metadata": {},
   "outputs": [
    {
     "name": "stdout",
     "output_type": "stream",
     "text": [
      "True\n",
      "False\n"
     ]
    }
   ],
   "source": [
    "list1=[1,2,3]\n",
    "list2=[1,2,3]\n",
    "list3=[3,4,5]\n",
    "print(list1 == list2)  \n",
    "print(list1 == list3)  "
   ]
  },
  {
   "cell_type": "markdown",
   "id": "f1196beb-0991-4854-a4d2-28328514ff25",
   "metadata": {},
   "source": [
    "### 31) Write a Python program to count the number of strings where the string length is 2 or more and the first and last character are same from a given list of strings. "
   ]
  },
  {
   "cell_type": "code",
   "execution_count": 102,
   "id": "f4307d96-721a-492a-ab96-ec18104c9cf4",
   "metadata": {},
   "outputs": [
    {
     "name": "stdout",
     "output_type": "stream",
     "text": [
      "Number of strings with length 2 or more and same first and last character: 2\n"
     ]
    }
   ],
   "source": [
    "def count(strings):\n",
    "    count = 0\n",
    "    for s in strings:\n",
    "        if len(s) >= 2 and s[0] == s[-1]:\n",
    "            count += 1\n",
    "    return count\n",
    "\n",
    "\n",
    "a = [\"abc\", \"aba\", \"a\", \"xyx\", \"xy\", \"aab\", \"b\"]\n",
    "result = count(a)\n",
    "print(f'Number of strings with length 2 or more and same first and last character: { result }')"
   ]
  },
  {
   "cell_type": "markdown",
   "id": "83b2d525-ec88-457f-9b71-563262ac4944",
   "metadata": {},
   "source": [
    "### 32) Write a Python program to remove duplicates from a list. "
   ]
  },
  {
   "cell_type": "code",
   "execution_count": 3,
   "id": "673bbe60-0dfd-4223-9645-f5f5794306d9",
   "metadata": {},
   "outputs": [
    {
     "name": "stdout",
     "output_type": "stream",
     "text": [
      "List after removing duplicates: [2, 3, 4]\n"
     ]
    }
   ],
   "source": [
    "#a={2,3,4,3,2,3,3,2}\n",
    "#print(a)\n",
    "\n",
    "a = [2,3,4,3,2,3,3,2]\n",
    "b = list(set(a))\n",
    "print(\"List after removing duplicates:\", b)\n",
    "\n"
   ]
  },
  {
   "cell_type": "markdown",
   "id": "ff86db95-4f29-4e8b-b71f-0dfc015e39ab",
   "metadata": {},
   "source": [
    "### 33) Write a Python program to check a list is empty or not."
   ]
  },
  {
   "cell_type": "code",
   "execution_count": 29,
   "id": "2ba615b4-0cf5-43e8-acf3-6d2d67abf0e0",
   "metadata": {},
   "outputs": [
    {
     "name": "stdout",
     "output_type": "stream",
     "text": [
      "The list is not empty.\n"
     ]
    }
   ],
   "source": [
    "a = []\n",
    "if a == []:\n",
    "    print(\"The list is empty.\")\n",
    "else:\n",
    "    print(\"The list is not empty.\")"
   ]
  },
  {
   "cell_type": "markdown",
   "id": "f1104fbc-41cf-40ad-ba60-f017fc127cbb",
   "metadata": {},
   "source": [
    "### 34) Write a Python function that takes two lists and returns true if they have at least one common member. "
   ]
  },
  {
   "cell_type": "code",
   "execution_count": 77,
   "id": "cccd43f4-18f0-486c-9ee4-c4d6584673a8",
   "metadata": {},
   "outputs": [
    {
     "name": "stdout",
     "output_type": "stream",
     "text": [
      "The lists have at least one common member\n"
     ]
    }
   ],
   "source": [
    "a = [2,4] \n",
    "b = [4]\n",
    "\n",
    "set1=set(a)\n",
    "set2=set(b)\n",
    "\n",
    "if set1.isdisjoint(set2):\n",
    "    print(\"The lists do not have any common member\")\n",
    "else:\n",
    "    print(\"The lists have at least one common member\")\n"
   ]
  },
  {
   "cell_type": "markdown",
   "id": "e2a41fb5-810c-4f49-8275-a763e4f6aace",
   "metadata": {},
   "source": [
    "### 35) Write a Python program to generate and print a list of first and last 5 elements where the values are square of numbers between 1 and 30."
   ]
  },
  {
   "cell_type": "code",
   "execution_count": 131,
   "id": "5d5af760-7c8a-4bd1-aa90-3e873a020149",
   "metadata": {},
   "outputs": [
    {
     "name": "stdout",
     "output_type": "stream",
     "text": [
      "first 5 elements where the values are square of numbers between 1 and 30:\n",
      "1\n",
      "4\n",
      "9\n",
      "16\n",
      "25\n",
      "Last 5 elements where the values are square of numbers between 1 and 30:\n",
      "625\n",
      "676\n",
      "729\n",
      "784\n",
      "841\n",
      "900\n"
     ]
    }
   ],
   "source": [
    "print(\"first 5 elements where the values are square of numbers between 1 and 30:\")\n",
    "for i in range(1, 6):\n",
    "    print(i**2)\n",
    "\n",
    "print(\"Last 5 elements where the values are square of numbers between 1 and 30:\")\n",
    "for i in range(25, 31):\n",
    "    print(i**2)"
   ]
  },
  {
   "cell_type": "markdown",
   "id": "13794c82-e606-45a4-87ec-b1767316e244",
   "metadata": {},
   "source": [
    "### 36) Write a Python function that takes a list and returns a new list with unique elements of the first list. "
   ]
  },
  {
   "cell_type": "code",
   "execution_count": 17,
   "id": "536993e9-4de1-4b78-84f2-07a305f779cc",
   "metadata": {},
   "outputs": [
    {
     "name": "stdout",
     "output_type": "stream",
     "text": [
      "[1, 2, 3, 4]\n"
     ]
    }
   ],
   "source": [
    "def get_unique_elements(lst):\n",
    "    unique_list = []\n",
    "    for i in lst:\n",
    "        if i not in unique_list:\n",
    "            unique_list.append(i)\n",
    "    return unique_list\n",
    "a=[1,2,3,3,3,4]\n",
    "print(get_unique_elements(a))"
   ]
  },
  {
   "cell_type": "markdown",
   "id": "5509f67c-c49e-4abf-bd78-0cdd68b50a22",
   "metadata": {},
   "source": [
    "### 37)Write a Python program to convert a list of characters into a string. "
   ]
  },
  {
   "cell_type": "code",
   "execution_count": 58,
   "id": "480675a4-ba7a-4466-ae60-7b03f4dc3b93",
   "metadata": {},
   "outputs": [
    {
     "name": "stdout",
     "output_type": "stream",
     "text": [
      "The string is: python\n"
     ]
    }
   ],
   "source": [
    "a = ['p','y','t','h','o','n']\n",
    "result = ''.join(a)\n",
    "print(\"The string is:\", result)"
   ]
  },
  {
   "cell_type": "markdown",
   "id": "d6ac1595-d32c-42a8-80e5-a3cf30842312",
   "metadata": {},
   "source": [
    "### 38) Write a Python program to select an item randomly from a list. "
   ]
  },
  {
   "cell_type": "code",
   "execution_count": 65,
   "id": "2a954470-7878-4caa-8b6c-bc0cd8482d81",
   "metadata": {},
   "outputs": [
    {
     "name": "stdout",
     "output_type": "stream",
     "text": [
      "Randomly selected item: a\n"
     ]
    }
   ],
   "source": [
    "import random\n",
    "a = ['a', 'b', 'c', 'd', 'e']\n",
    "random_item = random.choice(a)\n",
    "print(\"Randomly selected item:\", random_item)"
   ]
  },
  {
   "cell_type": "markdown",
   "id": "7f9ec78a-0807-4e6c-b634-7c7b865fddf1",
   "metadata": {},
   "source": [
    "### 39) Write a Python program to find the second smallest number in a list. "
   ]
  },
  {
   "cell_type": "code",
   "execution_count": 5,
   "id": "616678e0-0438-476c-9d2c-da873b89aa30",
   "metadata": {},
   "outputs": [
    {
     "name": "stdout",
     "output_type": "stream",
     "text": [
      "[1, 2, 3, 6, 7, 45]\n",
      "2\n"
     ]
    }
   ],
   "source": [
    "a=[1,1,2,2,3,3,45,6,7]\n",
    "x = set(a)\n",
    "print(sorted(x))\n",
    "print(sorted(x)[1])"
   ]
  },
  {
   "cell_type": "markdown",
   "id": "d27da5e1-1e3f-404e-be67-61ea61c1a1b2",
   "metadata": {},
   "source": [
    "### 40) Write a Python program to get unique values from a list."
   ]
  },
  {
   "cell_type": "code",
   "execution_count": 15,
   "id": "3486ec70-a025-48af-b577-0725d3b18d6f",
   "metadata": {},
   "outputs": [
    {
     "name": "stdout",
     "output_type": "stream",
     "text": [
      "Unique values: [1, 2, 3, 4, 5, 6, 7]\n"
     ]
    }
   ],
   "source": [
    "a = [1, 2, 2, 3, 4, 4, 5, 6, 6, 7]\n",
    "unique_list = []\n",
    "for i in a:\n",
    "    if i not in unique_list:\n",
    "        unique_list.append(i)\n",
    "print(\"Unique values:\", unique_list)"
   ]
  },
  {
   "cell_type": "markdown",
   "id": "cbaff84c-637d-4e88-9685-230ee0fe3062",
   "metadata": {},
   "source": [
    "### 41) Write a Python program to check whether a list contains a sub list."
   ]
  },
  {
   "cell_type": "code",
   "execution_count": 7,
   "id": "0d4ddc09-2379-4fce-bd4d-c426d69a2ac2",
   "metadata": {},
   "outputs": [
    {
     "name": "stdout",
     "output_type": "stream",
     "text": [
      "The list does not contain the sublist.\n"
     ]
    }
   ],
   "source": [
    "a = [1, 2, [1,2,3,4], 5]\n",
    "b = [3,4]\n",
    "\n",
    "main_list = str(a)\n",
    "sub_list = str(b)\n",
    "\n",
    "if sub_list in main_list:\n",
    "    print(\"The list contains the sublist.\")\n",
    "else:\n",
    "    print(\"The list does not contain the sublist.\")"
   ]
  },
  {
   "cell_type": "markdown",
   "id": "a0bb3ce8-3503-4c13-9873-5219c84526db",
   "metadata": {},
   "source": [
    "### 42) Write a Python program to split a list into different variables. "
   ]
  },
  {
   "cell_type": "code",
   "execution_count": 47,
   "id": "9d7b287b-d5ed-4174-b58f-556473d14ff8",
   "metadata": {},
   "outputs": [
    {
     "name": "stdout",
     "output_type": "stream",
     "text": [
      "Variable x: 10\n",
      "Variable y: 20\n",
      "Variable z: 30\n"
     ]
    }
   ],
   "source": [
    "a = [10, 20, 30]\n",
    "x,y,z = a\n",
    "print(\"Variable x:\", x)\n",
    "print(\"Variable y:\", y)\n",
    "print(\"Variable z:\", z)"
   ]
  },
  {
   "cell_type": "markdown",
   "id": "4d1486a5-bbe7-463f-a507-fc254bbec229",
   "metadata": {},
   "source": [
    "### 43)What is tuple? Difference between list and tuple. "
   ]
  },
  {
   "cell_type": "raw",
   "id": "d53da4ec-a3c2-4c46-90a6-daa5f64f0367",
   "metadata": {},
   "source": [
    "a tuple is a built-in data type that represents an ordered collection of elements, similar to a list, but with some key differences. Tuples are immutable, meaning once a tuple is created, its contents cannot be changed. Tuples are defined using parentheses () and elements are separated by commas.\n",
    "\n",
    "Differences Between List and Tuple:\n",
    "\n",
    "Mutability:\n",
    "List: Mutable (can be changed after creation).\n",
    "Tuple: Immutable (cannot be changed after creation).\n",
    "\n",
    "Syntax:\n",
    "List: Defined with square brackets [].\n",
    "Tuple: Defined with parentheses ().\n",
    "\n",
    "Methods:\n",
    "List: Has many methods (e.g., append(), remove()).\n",
    "Tuple: Fewer methods (e.g., count(), index()).\n"
   ]
  },
  {
   "cell_type": "markdown",
   "id": "d500ef48-7b27-432f-89ed-cf8b1eec0334",
   "metadata": {},
   "source": [
    "### 44) Write a Python program to create a tuple with different data types. "
   ]
  },
  {
   "cell_type": "code",
   "execution_count": 29,
   "id": "9b3f5fb1-7036-437b-8ca8-79d952e7a004",
   "metadata": {},
   "outputs": [
    {
     "name": "stdout",
     "output_type": "stream",
     "text": [
      "Tuple with different data types: (1, 'hello', 3.14, True, [5, 6], {'key': 'value'})\n"
     ]
    }
   ],
   "source": [
    "a = (1, \"hello\", 3.14, True, [5, 6], {'key': 'value'})\n",
    "\n",
    "print(\"Tuple with different data types:\", a)"
   ]
  },
  {
   "cell_type": "markdown",
   "id": "5666d971-085b-4715-a5ba-e2fa2c4f6ef7",
   "metadata": {},
   "source": [
    "### 45) Write a Python program to unzip a list of tuples into individual lists."
   ]
  },
  {
   "cell_type": "code",
   "execution_count": 99,
   "id": "cf41e8c4-edcd-4dda-81f0-f782e6086fac",
   "metadata": {},
   "outputs": [
    {
     "name": "stdout",
     "output_type": "stream",
     "text": [
      "List 1: [1, 2, 3]\n",
      "List 2: ['a', 'b', 'c']\n",
      "List 3: [3.5, 4.5, 5.5]\n"
     ]
    }
   ],
   "source": [
    "a = [(1, 'a', 3.5), (2, 'b', 4.5), (3, 'c', 5.5)]\n",
    "\n",
    "list1, list2, list3 = zip(*a)\n",
    "\n",
    "list1 = list(list1)\n",
    "list2 = list(list2)\n",
    "list3 = list(list3)\n",
    "\n",
    "print(\"List 1:\", list1)\n",
    "print(\"List 2:\", list2)\n",
    "print(\"List 3:\", list3)"
   ]
  },
  {
   "cell_type": "markdown",
   "id": "fafeb25d-9f6f-4347-a371-0fc0643db977",
   "metadata": {},
   "source": [
    "### 46) Write a Python program to convert a list of tuples into a dictionary. "
   ]
  },
  {
   "cell_type": "code",
   "execution_count": 3,
   "id": "2894e14d-2493-435f-bab6-fe5142fb77e9",
   "metadata": {},
   "outputs": [
    {
     "name": "stdout",
     "output_type": "stream",
     "text": [
      "Dictionary: {'a': 1, 'b': 2, 'c': 3}\n"
     ]
    }
   ],
   "source": [
    "a = [('a', 1), ('b', 2), ('c', 3)]\n",
    "x = dict(a)\n",
    "print(\"Dictionary:\", x)"
   ]
  },
  {
   "cell_type": "markdown",
   "id": "3a1f0967-19ad-4fef-8d71-5ee61bcca734",
   "metadata": {},
   "source": [
    "### 47) How will you create a dictionary using tuples in python? "
   ]
  },
  {
   "cell_type": "code",
   "execution_count": 3,
   "id": "ba3d296c-3ac3-4d07-a081-c239b51c74e7",
   "metadata": {},
   "outputs": [
    {
     "name": "stdout",
     "output_type": "stream",
     "text": [
      "Dictionary: {'name': 'Rajvi', 'age': 22}\n"
     ]
    }
   ],
   "source": [
    "a = [('name', 'Rajvi'), ('age', 22)]\n",
    "x = dict(a)\n",
    "print(\"Dictionary:\", x)"
   ]
  },
  {
   "cell_type": "markdown",
   "id": "961b38a8-623a-466f-9367-c0b564bd4d6d",
   "metadata": {},
   "source": [
    "### 48) Write a Python script to sort (ascending and descending) a dictionary by value. "
   ]
  },
  {
   "cell_type": "code",
   "execution_count": 66,
   "id": "85fb2e21-9c57-4edb-8667-2dafa455ce04",
   "metadata": {},
   "outputs": [
    {
     "name": "stdout",
     "output_type": "stream",
     "text": [
      "Sorted Dictionary by Value (Ascending):\n",
      "{'a': 10, 'b': 15, 'c': 20}\n",
      "\n",
      "Sorted Dictionary by Value (Descending):\n",
      "{'c': 20, 'b': 15, 'a': 10}\n"
     ]
    }
   ],
   "source": [
    "a = {'a':10, 'b':15, 'c': 20}\n",
    "sorted_dict_ascending = dict(sorted(a.items(), key=lambda item: item[1]))\n",
    "\n",
    "sorted_dict_descending = dict(sorted(a.items(), key=lambda item: item[1], reverse=True))\n",
    "\n",
    "print(\"Sorted Dictionary by Value (Ascending):\")\n",
    "print(sorted_dict_ascending)\n",
    "\n",
    "print(\"\\nSorted Dictionary by Value (Descending):\")\n",
    "print(sorted_dict_descending)\n"
   ]
  },
  {
   "cell_type": "markdown",
   "id": "f93618a1-c464-4a48-b03e-242e42a4c07e",
   "metadata": {},
   "source": [
    "### 49) Write a Python script to concatenate(link) following dictionaries to create a new one. "
   ]
  },
  {
   "cell_type": "code",
   "execution_count": 53,
   "id": "de0f8aeb-257d-4380-aa9f-985af89b77b5",
   "metadata": {},
   "outputs": [
    {
     "name": "stdout",
     "output_type": "stream",
     "text": [
      "Updated Sting: {'a': 12, 'b': 5, 'c': 25, 'd': 75}\n"
     ]
    }
   ],
   "source": [
    "a1 = {'a':12, 'b':5}\n",
    "a2 = {'c':25, 'd':75}\n",
    "c={}\n",
    "c.update(a1)\n",
    "c.update(a2)\n",
    "print(\"Updated Sting:\",c)"
   ]
  },
  {
   "cell_type": "markdown",
   "id": "7bb1389c-5482-42b8-8822-30c4261e7606",
   "metadata": {},
   "source": [
    "### 50) Write a Python script to check if a given key already exists in a dictionary. "
   ]
  },
  {
   "cell_type": "code",
   "execution_count": 83,
   "id": "b8b877bf-19db-4788-a740-fd1225c50dbc",
   "metadata": {},
   "outputs": [
    {
     "name": "stdin",
     "output_type": "stream",
     "text": [
      "Enter the key :  shail\n"
     ]
    },
    {
     "name": "stdout",
     "output_type": "stream",
     "text": [
      "Key already exist in a dictionary\n"
     ]
    }
   ],
   "source": [
    "a = {'rajvi': 22 ,'shail': 25,'drashya': 20}\n",
    "x = input(\"Enter the key : \")\n",
    "if x in a:\n",
    "    print(\"Key already exist in a dictionary\")\n",
    "else:\n",
    "    print(\"Key does not exist in a dictionary\")"
   ]
  },
  {
   "cell_type": "markdown",
   "id": "9c89bf78-ae32-4177-abea-dd46b924e225",
   "metadata": {},
   "source": [
    "### 51) How Do You Traverse Through a Dictionary Object in Python? "
   ]
  },
  {
   "cell_type": "raw",
   "id": "56868e8c-9715-4f09-b43b-15f932bd7c4f",
   "metadata": {},
   "source": [
    "Traversing through a dictionary in Python is straightforward, as dictionaries are iterable objects. You can access keys, values, or key-value pairs during traversal. Here’s how you can traverse through a dictionary using different methods:"
   ]
  },
  {
   "cell_type": "code",
   "execution_count": 5,
   "id": "0c25e4a6-3757-4aa8-b363-2c250caa917d",
   "metadata": {},
   "outputs": [
    {
     "name": "stdout",
     "output_type": "stream",
     "text": [
      "Key: apple\n",
      "Key: banana\n",
      "Key: cherry\n"
     ]
    }
   ],
   "source": [
    "#1) Traversing by Keys\n",
    "\n",
    "a = {'apple': 10,'banana': 5,'cherry': 7}\n",
    "for key in a.keys():\n",
    "    print(f'Key: {key}')"
   ]
  },
  {
   "cell_type": "code",
   "execution_count": 7,
   "id": "279d4e1a-8f9f-495a-a672-1a963acedf71",
   "metadata": {},
   "outputs": [
    {
     "name": "stdout",
     "output_type": "stream",
     "text": [
      "alue: 10\n",
      "alue: 5\n",
      "alue: 7\n"
     ]
    }
   ],
   "source": [
    "#2) Traversing by Values\n",
    "\n",
    "a = {'apple': 10,'banana': 5,'cherry': 7}\n",
    "for value in a.values():\n",
    "    print(f'alue: {value}')"
   ]
  },
  {
   "cell_type": "code",
   "execution_count": 9,
   "id": "500558a9-7f0b-4644-a7b4-ffbb1096d129",
   "metadata": {},
   "outputs": [
    {
     "name": "stdout",
     "output_type": "stream",
     "text": [
      "Key: apple, Value: 10\n",
      "Key: banana, Value: 5\n",
      "Key: cherry, Value: 7\n"
     ]
    }
   ],
   "source": [
    "#3. Traversing by Key-Value Pairs\n",
    "\n",
    "a = {'apple': 10,'banana': 5,'cherry': 7}\n",
    "for key, value in a.items():\n",
    "    print(f'Key: {key}, Value: {value}')"
   ]
  },
  {
   "cell_type": "markdown",
   "id": "712acfdf-31b8-4bf9-9b94-4d97a8f21c94",
   "metadata": {},
   "source": [
    "### 52) How Do You Check the Presence of a Key in A Dictionary? "
   ]
  },
  {
   "cell_type": "code",
   "execution_count": 14,
   "id": "5b6f3fb6-72be-4356-b2b4-43ff77179c78",
   "metadata": {},
   "outputs": [
    {
     "name": "stdin",
     "output_type": "stream",
     "text": [
      "Enter the key :  shail\n"
     ]
    },
    {
     "name": "stdout",
     "output_type": "stream",
     "text": [
      "Key already exist in a dictionary\n"
     ]
    }
   ],
   "source": [
    "a = {'rajvi': 22 ,'shail': 25,'drashya': 20}\n",
    "x = input(\"Enter the key : \")\n",
    "if x in a:\n",
    "    print(\"Key already exist in a dictionary\")\n",
    "else:\n",
    "    print(\"Key does not exist in a dictionary\")"
   ]
  },
  {
   "cell_type": "markdown",
   "id": "ac5f6109-32ea-4770-951f-39f43cf88d8b",
   "metadata": {},
   "source": [
    "### 53) Write a Python script to print a dictionary where the keys are numbers between 1 and 15. "
   ]
  },
  {
   "cell_type": "code",
   "execution_count": 25,
   "id": "d06d3443-b06f-42a7-bf79-70dbc24e7439",
   "metadata": {},
   "outputs": [
    {
     "name": "stdout",
     "output_type": "stream",
     "text": [
      "{1: 'v', 2: 'v', 3: 'v', 4: 'v', 5: 'v', 6: 'v', 7: 'v', 8: 'v', 9: 'v', 10: 'v', 11: 'v', 12: 'v', 13: 'v', 14: 'v', 15: 'v'}\n"
     ]
    }
   ],
   "source": [
    "a = {key: \"v\" for key in range(1, 16)}\n",
    "print(a)"
   ]
  },
  {
   "cell_type": "markdown",
   "id": "83aa9f15-2aa7-4dd6-aafa-28f0fceec125",
   "metadata": {},
   "source": [
    "### 54) Write a Python program to check multiple keys exists in a dictionary "
   ]
  },
  {
   "cell_type": "code",
   "execution_count": 1,
   "id": "777532ab-a6de-4d88-8a5d-b734a1fbabc9",
   "metadata": {},
   "outputs": [
    {
     "name": "stdout",
     "output_type": "stream",
     "text": [
      "True\n",
      "False\n"
     ]
    }
   ],
   "source": [
    "X = {'ajay':2,'chandu':3,'babu':4}\n",
    "set1 = set(['ajay','chandu'])\n",
    "set2 = set(['chandu','om'])\n",
    "\n",
    "print(set1.issubset(X.keys()))\n",
    "print(set2.issubset(X.keys()))"
   ]
  },
  {
   "cell_type": "markdown",
   "id": "08950150-b0a4-4831-a0ed-11cded201830",
   "metadata": {},
   "source": [
    "### 55) Write a Python script to merge two Python dictionaries."
   ]
  },
  {
   "cell_type": "code",
   "execution_count": 89,
   "id": "814d89b4-ffea-4e01-9643-79d0326cc527",
   "metadata": {},
   "outputs": [
    {
     "name": "stdout",
     "output_type": "stream",
     "text": [
      "{'a': 1, 'b': 2, 'c': 3, 'd': 4}\n"
     ]
    }
   ],
   "source": [
    "dict1 = {'a': 1, 'b': 2}\n",
    "dict2 = {'c': 3, 'd': 4}\n",
    "dict1.update(dict2)\n",
    "print(dict1)"
   ]
  },
  {
   "cell_type": "markdown",
   "id": "52ed4efb-6446-452a-a721-5406160f0769",
   "metadata": {},
   "source": [
    "### 56) Write a Python program to map two lists into a dictionary "
   ]
  },
  {
   "cell_type": "code",
   "execution_count": 105,
   "id": "73981243-4e21-44af-9dd7-885beb0a8609",
   "metadata": {},
   "outputs": [
    {
     "name": "stdout",
     "output_type": "stream",
     "text": [
      "{'a': 1, 'b': 2, 'c': 3}\n"
     ]
    }
   ],
   "source": [
    "keys = ['a', 'b', 'c']\n",
    "values = [1, 2, 3]\n",
    "\n",
    "a = dict(zip(keys, values))\n",
    "\n",
    "print(a)"
   ]
  },
  {
   "cell_type": "markdown",
   "id": "ada15245-f74d-4a6d-85b5-b307d1e23e47",
   "metadata": {},
   "source": [
    "### 57) Write a Python program to find the highest 3 values in a dictionary "
   ]
  },
  {
   "cell_type": "code",
   "execution_count": 116,
   "id": "0649299e-06be-46b9-85c2-c9dc53b6769d",
   "metadata": {},
   "outputs": [
    {
     "name": "stdout",
     "output_type": "stream",
     "text": [
      "The highest 3 values are: [40, 25, 15]\n"
     ]
    }
   ],
   "source": [
    "data = {'a': 10,'b': 25,'c':7,'d': 40,'e': 15}\n",
    "\n",
    "values = list(data.values())\n",
    "\n",
    "sorted_values = sorted(values, reverse=True)\n",
    "\n",
    "top_3_values = sorted_values[:3]\n",
    "\n",
    "print(\"The highest 3 values are:\", top_3_values)"
   ]
  },
  {
   "cell_type": "markdown",
   "id": "92192f5d-5499-45ad-af62-e1e142d59fb1",
   "metadata": {},
   "source": [
    "### 58) Write a Python program to combine values in python list of dictionaries.\n",
    "#Sample data: [{'item': 'item1', 'amount': 400}, {'item': 'item2', 'amount': 300}, o {'item': 'item1', 'amount': 750}] "
   ]
  },
  {
   "cell_type": "code",
   "execution_count": 141,
   "id": "e299af99-2b9e-4ab5-942f-d925776afce0",
   "metadata": {},
   "outputs": [
    {
     "name": "stdout",
     "output_type": "stream",
     "text": [
      "{'item1': 1150, 'item2': 300}\n"
     ]
    }
   ],
   "source": [
    "data = [{'item': 'item1', 'amount': 400},{'item': 'item2', 'amount': 300},{'item': 'item1', 'amount': 750}]\n",
    "combined = {}\n",
    "for i in data:\n",
    "    item = i['item']\n",
    "    amount = i['amount']\n",
    "    \n",
    "    if item in combined:\n",
    "        combined[item] += amount\n",
    "    else:\n",
    "        combined[item] = amount\n",
    "        \n",
    "print(combined)"
   ]
  },
  {
   "cell_type": "markdown",
   "id": "fc91fe04-a2bb-4bfb-8219-ebd2cb642fe9",
   "metadata": {},
   "source": [
    "### 59) Write a Python program to create a dictionary from a string. \n",
    "#Note: Track the count of the letters from the string. "
   ]
  },
  {
   "cell_type": "code",
   "execution_count": 9,
   "id": "2af62d62-6813-4dbb-8586-dc0493882e5a",
   "metadata": {},
   "outputs": [
    {
     "name": "stdin",
     "output_type": "stream",
     "text": [
      "Enter a string ghfrth\n"
     ]
    },
    {
     "name": "stdout",
     "output_type": "stream",
     "text": [
      "{'g': 1, 'h': 2, 'f': 1, 'r': 1, 't': 1}\n"
     ]
    }
   ],
   "source": [
    "a=input(\"Enter a string\")\n",
    "b={}\n",
    "for i in a:\n",
    "    if i in b:\n",
    "        b[i]+=1\n",
    "    else:\n",
    "        b[i]=1\n",
    "print(b)"
   ]
  },
  {
   "cell_type": "markdown",
   "id": "ab504bd4-d3e3-45b5-8c21-c46e46c7cad5",
   "metadata": {},
   "source": [
    "### 60) Sample string:'w3resource' Expected output: • {'3': 1,’s’: 1, 'r': 2, 'u': 1, 'w': 1, 'c': 1, 'e': 2, 'o': 1}"
   ]
  },
  {
   "cell_type": "code",
   "execution_count": 36,
   "id": "1ee46dfa-d4ca-4458-af20-ca96ac234805",
   "metadata": {},
   "outputs": [
    {
     "name": "stdout",
     "output_type": "stream",
     "text": [
      "{'3': 1, 's': 1, 'r': 2, 'u': 1, 'w': 1, 'c': 1, 'e': 2, 'o': 1}\n"
     ]
    }
   ],
   "source": [
    "a= \"3srurwceeo\"\n",
    "b={}\n",
    "for i in a:\n",
    "    if i in b:\n",
    "        b[i]+=1\n",
    "    else:\n",
    "        b[i]=1\n",
    "print(b)"
   ]
  },
  {
   "cell_type": "markdown",
   "id": "b7cc340a-e31a-4f34-85c4-d2a085191b3c",
   "metadata": {},
   "source": [
    "### 61) Write a Python function to calculate the factorial of a number (a nonnegative integer) "
   ]
  },
  {
   "cell_type": "code",
   "execution_count": 7,
   "id": "75eb35bd-1de1-44da-8336-e067654526c6",
   "metadata": {},
   "outputs": [
    {
     "name": "stdin",
     "output_type": "stream",
     "text": [
      "Enter the number 5\n"
     ]
    },
    {
     "name": "stdout",
     "output_type": "stream",
     "text": [
      "120\n"
     ]
    }
   ],
   "source": [
    "def factorial(n):\n",
    "    if n < 0:\n",
    "        return \"Factorial is not defined for negative numbers\"\n",
    "    if n == 0 or n == 1:\n",
    "        return 1\n",
    "    if n > 1:\n",
    "        return n * factorial(n - 1)\n",
    "print(factorial(int(input(\"Enter the number\"))))  "
   ]
  },
  {
   "cell_type": "markdown",
   "id": "999151ad-a6fb-471d-9dbb-2e9a968e168c",
   "metadata": {},
   "source": [
    "### 62) Write a Python function to check whether a number is in a given range "
   ]
  },
  {
   "cell_type": "code",
   "execution_count": 14,
   "id": "deda991c-351f-469b-9daa-ab7e962c6f99",
   "metadata": {},
   "outputs": [
    {
     "name": "stdout",
     "output_type": "stream",
     "text": [
      "True\n",
      "False\n"
     ]
    }
   ],
   "source": [
    "def in_range(number,start,end):\n",
    "    return number in range(start,end+1)\n",
    "\n",
    "print(in_range(5,1,10))\n",
    "print(in_range(15,1,10))"
   ]
  },
  {
   "cell_type": "markdown",
   "id": "d67c9fb7-3e48-4ac0-935e-013651d33f04",
   "metadata": {},
   "source": [
    "### 63) Write a Python function to check whether a number is perfect or not."
   ]
  },
  {
   "cell_type": "code",
   "execution_count": null,
   "id": "9fd86b77-34a2-4da6-9709-89c276b246f1",
   "metadata": {},
   "outputs": [],
   "source": [
    "def perfect(n):\n",
    "   \n",
    "    total = 0\n",
    "    for i in range(1, n):\n",
    "        if n % i == 0:\n",
    "            total += i\n",
    "\n",
    "    return total == n\n",
    "\n",
    "\n",
    "number = int(input(\"Enter a number:\"))\n",
    "if perfect(number):\n",
    "    print(f\"{number} is a perfect number.\")\n",
    "else:\n",
    "    print(f\"{number} is not a perfect number.\")"
   ]
  },
  {
   "cell_type": "markdown",
   "id": "8d71a0d4-e336-4907-af2c-9e0c1afac6e2",
   "metadata": {},
   "source": [
    "### 64) Write a Python function that checks whether a passed string is palindrome or not "
   ]
  },
  {
   "cell_type": "code",
   "execution_count": null,
   "id": "726507c2-4d78-4f8f-949e-a8e33972ad03",
   "metadata": {},
   "outputs": [],
   "source": [
    "def palindrome(s):\n",
    "    a=str(s)\n",
    "    if a==a[::-1]:\n",
    "        print(s,\"is palidrome\")\n",
    "    else:\n",
    "        print(s,\"is not palidrome\")\n",
    "s = str(input(\"Enter a string\"))\n",
    "palindrome(s)"
   ]
  },
  {
   "cell_type": "markdown",
   "id": "f9163880-e9fb-4300-bc9e-d77bef0abdc7",
   "metadata": {},
   "source": [
    "### 65) How Many Basic Types of Functions Are Available in Python?"
   ]
  },
  {
   "cell_type": "raw",
   "id": "547ada41-bbc0-485a-8e38-798432170aea",
   "metadata": {},
   "source": [
    "1) Built-in Functions\n",
    "2) User-Defined Functions\n",
    "3) Lambda Functions\n",
    "4) Recursive Functions\n",
    "5) Higher-Order Functions\n",
    "6) Generator Functions"
   ]
  },
  {
   "cell_type": "markdown",
   "id": "9cef0ab4-fe28-46cb-8d3e-e2680c955af3",
   "metadata": {},
   "source": [
    "### 66) How can you pick a random item from a list or tuple? "
   ]
  },
  {
   "cell_type": "code",
   "execution_count": 45,
   "id": "11daa45e-8dd8-4273-b6bd-e471489efcf5",
   "metadata": {},
   "outputs": [
    {
     "name": "stdout",
     "output_type": "stream",
     "text": [
      "list random number: 13\n",
      "tuple random number: 34\n"
     ]
    }
   ],
   "source": [
    "import random \n",
    "l=[4,5,78,45,56,13,45]\n",
    "print(\"list random number:\", random.choice(l))\n",
    "\n",
    "t=(2,3,65,34,64,24)\n",
    "print(\"tuple random number:\", random.choice(t))"
   ]
  },
  {
   "cell_type": "markdown",
   "id": "fe29756e-a512-4336-bb25-ff34d5fdd0f0",
   "metadata": {},
   "source": [
    "### 67) How can you pick a random item from a range? "
   ]
  },
  {
   "cell_type": "code",
   "execution_count": 59,
   "id": "1a5a34cc-07c4-4dcb-bfca-3f2f5a431a58",
   "metadata": {},
   "outputs": [
    {
     "name": "stdout",
     "output_type": "stream",
     "text": [
      "13\n"
     ]
    }
   ],
   "source": [
    "import random\n",
    "print(random.randrange(1,50))"
   ]
  },
  {
   "cell_type": "markdown",
   "id": "592ebe36-5acf-4d76-85f3-beb140c5f90e",
   "metadata": {},
   "source": [
    "### 68) How can you get a random number in python? "
   ]
  },
  {
   "cell_type": "code",
   "execution_count": 67,
   "id": "9186dacc-4f43-4e01-a52c-9e21b2da4778",
   "metadata": {},
   "outputs": [
    {
     "name": "stdout",
     "output_type": "stream",
     "text": [
      "9\n"
     ]
    }
   ],
   "source": [
    "import random\n",
    "print(random.randint(1,20))"
   ]
  },
  {
   "cell_type": "markdown",
   "id": "854b2f3b-d2a5-4616-9a71-eb3a201a23ef",
   "metadata": {},
   "source": [
    "### 69) How will you set the starting value in generating random numbers?"
   ]
  },
  {
   "cell_type": "raw",
   "id": "226fb7b9-587a-48b1-a4e7-8d46dbc93c9e",
   "metadata": {},
   "source": [
    "When generating random numbers, you often use a process called \"seeding\" to set the starting value for the random number generator. The seed is essentially an initial value that determines the sequence of random numbers that will be generated."
   ]
  },
  {
   "cell_type": "code",
   "execution_count": 31,
   "id": "ba11f011-42c3-4864-9bbb-9a99996e62b9",
   "metadata": {},
   "outputs": [
    {
     "name": "stdout",
     "output_type": "stream",
     "text": [
      "25\n"
     ]
    }
   ],
   "source": [
    "import random\n",
    "random.seed(78)  \n",
    "print(random.randint(1, 100)) "
   ]
  },
  {
   "cell_type": "markdown",
   "id": "b9f30e32-7c43-4a9e-91de-1fce6bfd9ce6",
   "metadata": {},
   "source": [
    "### 70) How will you randomize the items of a list in place? "
   ]
  },
  {
   "cell_type": "raw",
   "id": "3c76663a-01a1-436c-a783-667562b48996",
   "metadata": {},
   "source": [
    "To randomize the items of a list in place in Python, you can use the shuffle function from the random module. This function modifies the list directly, rearranging its elements randomly."
   ]
  },
  {
   "cell_type": "code",
   "execution_count": 29,
   "id": "a9873e67-a59d-4a09-965f-4dab1366daf4",
   "metadata": {},
   "outputs": [
    {
     "name": "stdout",
     "output_type": "stream",
     "text": [
      "[4, 3, 5, 2, 1]\n"
     ]
    }
   ],
   "source": [
    "import random\n",
    "a = [1, 2, 3, 4, 5]\n",
    "random.shuffle(a)\n",
    "print(a)"
   ]
  },
  {
   "cell_type": "markdown",
   "id": "52122750-2528-40f3-87d0-d5cea581270c",
   "metadata": {},
   "source": [
    "### 71) What is File function in python? What are keywords to create and write file. "
   ]
  },
  {
   "cell_type": "code",
   "execution_count": null,
   "id": "5fb51d74-0cdd-4f0b-95c4-c9daebc170e1",
   "metadata": {},
   "outputs": [],
   "source": []
  }
 ],
 "metadata": {
  "kernelspec": {
   "display_name": "Python 3 (ipykernel)",
   "language": "python",
   "name": "python3"
  },
  "language_info": {
   "codemirror_mode": {
    "name": "ipython",
    "version": 3
   },
   "file_extension": ".py",
   "mimetype": "text/x-python",
   "name": "python",
   "nbconvert_exporter": "python",
   "pygments_lexer": "ipython3",
   "version": "3.11.7"
  }
 },
 "nbformat": 4,
 "nbformat_minor": 5
}
